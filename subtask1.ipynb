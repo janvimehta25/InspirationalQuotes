{
  "nbformat": 4,
  "nbformat_minor": 0,
  "metadata": {
    "colab": {
      "provenance": []
    },
    "kernelspec": {
      "name": "python3",
      "display_name": "Python 3"
    },
    "language_info": {
      "name": "python"
    }
  },
  "cells": [
    {
      "cell_type": "code",
      "execution_count": 76,
      "metadata": {
        "id": "lrLBSAK-T9LD"
      },
      "outputs": [],
      "source": [
        "from bs4 import BeautifulSoup\n",
        "import requests\n",
        "import time\n",
        "import datetime\n",
        "import smtplib\n",
        "import pandas as pd\n",
        "import urllib.request"
      ]
    },
    {
      "cell_type": "code",
      "source": [
        "authors = []\n",
        "quotes = []"
      ],
      "metadata": {
        "id": "XTVmeaastFT6"
      },
      "execution_count": 77,
      "outputs": []
    },
    {
      "cell_type": "code",
      "source": [
        "def scrape_website(page_number):\n",
        "  page_num = str(page_number)\n",
        "  URL = 'https://www.goodreads.com/quotes/tag?id=artificial+intelligence&utf=8&page='+page_num\n",
        "  webpage = requests.get(URL)\n",
        "  soup = BeautifulSoup(webpage.text, 'html.parser')\n",
        "  quoteText = soup.find_all('div', attrs={'class':'quoteText'})\n",
        "\n",
        "for i in quoteText:\n",
        "  quote = i.text.strip().split('\\n')[0]\n",
        "  author = i.find('span', attrs={'class':'authorOrTitle'}).text.strip()\n",
        "  quotes.append(quote)\n",
        "  authors.append(author)"
      ],
      "metadata": {
        "id": "U5KbPBpE0uZw"
      },
      "execution_count": 78,
      "outputs": []
    },
    {
      "cell_type": "code",
      "source": [
        "scrape_website(1)"
      ],
      "metadata": {
        "id": "GslLfsBa268W"
      },
      "execution_count": 34,
      "outputs": []
    },
    {
      "cell_type": "code",
      "source": [
        "quotes"
      ],
      "metadata": {
        "id": "8FgO707H3AAc"
      },
      "execution_count": null,
      "outputs": []
    },
    {
      "cell_type": "code",
      "source": [
        "authors"
      ],
      "metadata": {
        "id": "UuAGdeGA3x1D"
      },
      "execution_count": null,
      "outputs": []
    },
    {
      "cell_type": "code",
      "source": [
        "n = 20\n",
        "for num in range(0, n):\n",
        "  scrape_website(num)"
      ],
      "metadata": {
        "id": "nJAYaClK50fr"
      },
      "execution_count": 79,
      "outputs": []
    },
    {
      "cell_type": "code",
      "source": [
        "quote"
      ],
      "metadata": {
        "id": "2JMdG5AC6qdg"
      },
      "execution_count": null,
      "outputs": []
    },
    {
      "cell_type": "code",
      "source": [
        "author"
      ],
      "metadata": {
        "id": "SXXTBaAe7o14"
      },
      "execution_count": null,
      "outputs": []
    },
    {
      "cell_type": "code",
      "source": [
        "# import csv\n",
        "\n",
        "# header = ['Quotes','Authors']\n",
        "\n",
        "# for i in range(len(quotes)):\n",
        "#   data=[quotes[i], authors[i]]\n",
        "\n",
        "#   with open('/content/InspirationalQuotes.csv','a', newline='', encoding='UTF8') as f:\n",
        "#     writer = csv.writer(f)\n",
        "#     writer.writerow(header)\n",
        "#     writer.writerow(data)\n"
      ],
      "metadata": {
        "id": "OdsGmXjMAgyH"
      },
      "execution_count": 74,
      "outputs": []
    },
    {
      "cell_type": "code",
      "source": [
        "import csv\n",
        "\n",
        "header = ['Quotes','Authors']\n",
        "data = [quote, author]\n",
        "\n",
        "with open('InspirationalQuotes1.csv','w', newline='', encoding='UTF8') as f:\n",
        "  writer = csv.writer(f)\n",
        "  writer.writerow(header)\n",
        "  writer.writerow(data)\n",
        "\n",
        "for i in range(len(quotes)):\n",
        "  data=[quotes[i], authors[i]]\n",
        "\n",
        "  with open('/content/InspirationalQuotes1.csv','a', newline='', encoding='UTF8') as f:\n",
        "    writer = csv.writer(f)\n",
        "    writer.writerow(data)\n"
      ],
      "metadata": {
        "id": "KZtAQVk8Z5o_"
      },
      "execution_count": 82,
      "outputs": []
    },
    {
      "cell_type": "code",
      "source": [
        "# with open('InspirationalQuotes.csv','a', newline='', encoding='UTF8') as f:\n",
        "#   writer = csv.writer(f)\n",
        "#   writer.writerow(header)\n",
        "#   writer.writerow(data)"
      ],
      "metadata": {
        "id": "1kj3Ds5gDgGK"
      },
      "execution_count": 73,
      "outputs": []
    }
  ]
}