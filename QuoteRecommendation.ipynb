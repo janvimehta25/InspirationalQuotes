{
  "nbformat": 4,
  "nbformat_minor": 0,
  "metadata": {
    "colab": {
      "provenance": [],
      "authorship_tag": "ABX9TyP0A/NQ9fFh09gMhkNYio6D",
      "include_colab_link": true
    },
    "kernelspec": {
      "name": "python3",
      "display_name": "Python 3"
    },
    "language_info": {
      "name": "python"
    }
  },
  "cells": [
    {
      "cell_type": "markdown",
      "metadata": {
        "id": "view-in-github",
        "colab_type": "text"
      },
      "source": [
        "<a href=\"https://colab.research.google.com/github/janvimehta25/InspirationalQuotes/blob/main/QuoteRecommendation.ipynb\" target=\"_parent\"><img src=\"https://colab.research.google.com/assets/colab-badge.svg\" alt=\"Open In Colab\"/></a>"
      ]
    },
    {
      "cell_type": "code",
      "execution_count": 2,
      "metadata": {
        "id": "fbIK5m0-YtGY"
      },
      "outputs": [],
      "source": [
        "import numpy as np\n",
        "import pandas as pd\n",
        "import difflib \n",
        "from sklearn.feature_extraction.text import TfidfVectorizer\n",
        "from sklearn.metrics.pairwise import cosine_similarity"
      ]
    },
    {
      "cell_type": "code",
      "source": [
        "df = pd.read_excel(r'/content/Quotes1.xlsx')\n",
        "print(df)"
      ],
      "metadata": {
        "colab": {
          "base_uri": "https://localhost:8080/"
        },
        "id": "e_Q_N3mmZDgQ",
        "outputId": "70ab2108-df7c-4a3a-a06c-1c8a54d38563"
      },
      "execution_count": 4,
      "outputs": [
        {
          "output_type": "stream",
          "name": "stdout",
          "text": [
            "     Sr.no                                             Quotes  \\\n",
            "0        1  Though I may be been constructed,\" he said, \"s...   \n",
            "1        2  I'm afraid that the following syllogism may be...   \n",
            "2        3  The question of whether a computer can think i...   \n",
            "3        4  To deny humanity the lesson of consequences wo...   \n",
            "4        5  I believe that at the end of the century the u...   \n",
            "..     ...                                                ...   \n",
            "116    117  Sometimes at night I worry about TAMMY. I worr...   \n",
            "117    118  AI wont be fool proof in the future since it w...   \n",
            "118    119  As data and science become more accessible and...   \n",
            "119    120  The onboard computer just wants to say a few w...   \n",
            "120    121  Though I may be been constructed,\" he said, \"s...   \n",
            "\n",
            "                       Authors                    Types  \n",
            "0           C. Robert Cargill,  Artificial Intelligence  \n",
            "1                  Alan Turing             Data Science  \n",
            "2           Edsger W. Dijkstra  Artificial Intelligence  \n",
            "3             Neal Shusterman,         Machine Learning  \n",
            "4                 Alan Turing,             Data Science  \n",
            "..                         ...                      ...  \n",
            "116                Charles Yu,             Data Science  \n",
            "117       Zoltan Andrejkovics,         Machine Learning  \n",
            "118  Hendrith Vanlon Smith  Jr  Artificial Intelligence  \n",
            "119             A.R. Merrydew,             Data Science  \n",
            "120         C. Robert Cargill,  Artificial Intelligence  \n",
            "\n",
            "[121 rows x 4 columns]\n"
          ]
        }
      ]
    },
    {
      "cell_type": "code",
      "source": [
        "df.head()"
      ],
      "metadata": {
        "colab": {
          "base_uri": "https://localhost:8080/",
          "height": 206
        },
        "id": "KPz4TlXoZpCy",
        "outputId": "01b8992e-038a-4eda-d2fe-7435dec0eb8b"
      },
      "execution_count": 5,
      "outputs": [
        {
          "output_type": "execute_result",
          "data": {
            "text/plain": [
              "   Sr.no                                             Quotes  \\\n",
              "0      1  Though I may be been constructed,\" he said, \"s...   \n",
              "1      2  I'm afraid that the following syllogism may be...   \n",
              "2      3  The question of whether a computer can think i...   \n",
              "3      4  To deny humanity the lesson of consequences wo...   \n",
              "4      5  I believe that at the end of the century the u...   \n",
              "\n",
              "              Authors                    Types  \n",
              "0  C. Robert Cargill,  Artificial Intelligence  \n",
              "1         Alan Turing             Data Science  \n",
              "2  Edsger W. Dijkstra  Artificial Intelligence  \n",
              "3    Neal Shusterman,         Machine Learning  \n",
              "4        Alan Turing,             Data Science  "
            ],
            "text/html": [
              "\n",
              "  <div id=\"df-e42ed228-337d-48a4-8c54-3a813b3c85c1\">\n",
              "    <div class=\"colab-df-container\">\n",
              "      <div>\n",
              "<style scoped>\n",
              "    .dataframe tbody tr th:only-of-type {\n",
              "        vertical-align: middle;\n",
              "    }\n",
              "\n",
              "    .dataframe tbody tr th {\n",
              "        vertical-align: top;\n",
              "    }\n",
              "\n",
              "    .dataframe thead th {\n",
              "        text-align: right;\n",
              "    }\n",
              "</style>\n",
              "<table border=\"1\" class=\"dataframe\">\n",
              "  <thead>\n",
              "    <tr style=\"text-align: right;\">\n",
              "      <th></th>\n",
              "      <th>Sr.no</th>\n",
              "      <th>Quotes</th>\n",
              "      <th>Authors</th>\n",
              "      <th>Types</th>\n",
              "    </tr>\n",
              "  </thead>\n",
              "  <tbody>\n",
              "    <tr>\n",
              "      <th>0</th>\n",
              "      <td>1</td>\n",
              "      <td>Though I may be been constructed,\" he said, \"s...</td>\n",
              "      <td>C. Robert Cargill,</td>\n",
              "      <td>Artificial Intelligence</td>\n",
              "    </tr>\n",
              "    <tr>\n",
              "      <th>1</th>\n",
              "      <td>2</td>\n",
              "      <td>I'm afraid that the following syllogism may be...</td>\n",
              "      <td>Alan Turing</td>\n",
              "      <td>Data Science</td>\n",
              "    </tr>\n",
              "    <tr>\n",
              "      <th>2</th>\n",
              "      <td>3</td>\n",
              "      <td>The question of whether a computer can think i...</td>\n",
              "      <td>Edsger W. Dijkstra</td>\n",
              "      <td>Artificial Intelligence</td>\n",
              "    </tr>\n",
              "    <tr>\n",
              "      <th>3</th>\n",
              "      <td>4</td>\n",
              "      <td>To deny humanity the lesson of consequences wo...</td>\n",
              "      <td>Neal Shusterman,</td>\n",
              "      <td>Machine Learning</td>\n",
              "    </tr>\n",
              "    <tr>\n",
              "      <th>4</th>\n",
              "      <td>5</td>\n",
              "      <td>I believe that at the end of the century the u...</td>\n",
              "      <td>Alan Turing,</td>\n",
              "      <td>Data Science</td>\n",
              "    </tr>\n",
              "  </tbody>\n",
              "</table>\n",
              "</div>\n",
              "      <button class=\"colab-df-convert\" onclick=\"convertToInteractive('df-e42ed228-337d-48a4-8c54-3a813b3c85c1')\"\n",
              "              title=\"Convert this dataframe to an interactive table.\"\n",
              "              style=\"display:none;\">\n",
              "        \n",
              "  <svg xmlns=\"http://www.w3.org/2000/svg\" height=\"24px\"viewBox=\"0 0 24 24\"\n",
              "       width=\"24px\">\n",
              "    <path d=\"M0 0h24v24H0V0z\" fill=\"none\"/>\n",
              "    <path d=\"M18.56 5.44l.94 2.06.94-2.06 2.06-.94-2.06-.94-.94-2.06-.94 2.06-2.06.94zm-11 1L8.5 8.5l.94-2.06 2.06-.94-2.06-.94L8.5 2.5l-.94 2.06-2.06.94zm10 10l.94 2.06.94-2.06 2.06-.94-2.06-.94-.94-2.06-.94 2.06-2.06.94z\"/><path d=\"M17.41 7.96l-1.37-1.37c-.4-.4-.92-.59-1.43-.59-.52 0-1.04.2-1.43.59L10.3 9.45l-7.72 7.72c-.78.78-.78 2.05 0 2.83L4 21.41c.39.39.9.59 1.41.59.51 0 1.02-.2 1.41-.59l7.78-7.78 2.81-2.81c.8-.78.8-2.07 0-2.86zM5.41 20L4 18.59l7.72-7.72 1.47 1.35L5.41 20z\"/>\n",
              "  </svg>\n",
              "      </button>\n",
              "      \n",
              "  <style>\n",
              "    .colab-df-container {\n",
              "      display:flex;\n",
              "      flex-wrap:wrap;\n",
              "      gap: 12px;\n",
              "    }\n",
              "\n",
              "    .colab-df-convert {\n",
              "      background-color: #E8F0FE;\n",
              "      border: none;\n",
              "      border-radius: 50%;\n",
              "      cursor: pointer;\n",
              "      display: none;\n",
              "      fill: #1967D2;\n",
              "      height: 32px;\n",
              "      padding: 0 0 0 0;\n",
              "      width: 32px;\n",
              "    }\n",
              "\n",
              "    .colab-df-convert:hover {\n",
              "      background-color: #E2EBFA;\n",
              "      box-shadow: 0px 1px 2px rgba(60, 64, 67, 0.3), 0px 1px 3px 1px rgba(60, 64, 67, 0.15);\n",
              "      fill: #174EA6;\n",
              "    }\n",
              "\n",
              "    [theme=dark] .colab-df-convert {\n",
              "      background-color: #3B4455;\n",
              "      fill: #D2E3FC;\n",
              "    }\n",
              "\n",
              "    [theme=dark] .colab-df-convert:hover {\n",
              "      background-color: #434B5C;\n",
              "      box-shadow: 0px 1px 3px 1px rgba(0, 0, 0, 0.15);\n",
              "      filter: drop-shadow(0px 1px 2px rgba(0, 0, 0, 0.3));\n",
              "      fill: #FFFFFF;\n",
              "    }\n",
              "  </style>\n",
              "\n",
              "      <script>\n",
              "        const buttonEl =\n",
              "          document.querySelector('#df-e42ed228-337d-48a4-8c54-3a813b3c85c1 button.colab-df-convert');\n",
              "        buttonEl.style.display =\n",
              "          google.colab.kernel.accessAllowed ? 'block' : 'none';\n",
              "\n",
              "        async function convertToInteractive(key) {\n",
              "          const element = document.querySelector('#df-e42ed228-337d-48a4-8c54-3a813b3c85c1');\n",
              "          const dataTable =\n",
              "            await google.colab.kernel.invokeFunction('convertToInteractive',\n",
              "                                                     [key], {});\n",
              "          if (!dataTable) return;\n",
              "\n",
              "          const docLinkHtml = 'Like what you see? Visit the ' +\n",
              "            '<a target=\"_blank\" href=https://colab.research.google.com/notebooks/data_table.ipynb>data table notebook</a>'\n",
              "            + ' to learn more about interactive tables.';\n",
              "          element.innerHTML = '';\n",
              "          dataTable['output_type'] = 'display_data';\n",
              "          await google.colab.output.renderOutput(dataTable, element);\n",
              "          const docLink = document.createElement('div');\n",
              "          docLink.innerHTML = docLinkHtml;\n",
              "          element.appendChild(docLink);\n",
              "        }\n",
              "      </script>\n",
              "    </div>\n",
              "  </div>\n",
              "  "
            ]
          },
          "metadata": {},
          "execution_count": 5
        }
      ]
    },
    {
      "cell_type": "code",
      "source": [
        "df['index'] = [i for i in range(0, len(df.values))]\n",
        "print(df.head())"
      ],
      "metadata": {
        "colab": {
          "base_uri": "https://localhost:8080/"
        },
        "id": "XCQ_iiS2alGd",
        "outputId": "2bff3693-4e36-4da2-9d12-c7748e74ec2e"
      },
      "execution_count": 6,
      "outputs": [
        {
          "output_type": "stream",
          "name": "stdout",
          "text": [
            "   Sr.no                                             Quotes  \\\n",
            "0      1  Though I may be been constructed,\" he said, \"s...   \n",
            "1      2  I'm afraid that the following syllogism may be...   \n",
            "2      3  The question of whether a computer can think i...   \n",
            "3      4  To deny humanity the lesson of consequences wo...   \n",
            "4      5  I believe that at the end of the century the u...   \n",
            "\n",
            "              Authors                    Types  index  \n",
            "0  C. Robert Cargill,  Artificial Intelligence      0  \n",
            "1         Alan Turing             Data Science      1  \n",
            "2  Edsger W. Dijkstra  Artificial Intelligence      2  \n",
            "3    Neal Shusterman,         Machine Learning      3  \n",
            "4        Alan Turing,             Data Science      4  \n"
          ]
        }
      ]
    },
    {
      "cell_type": "code",
      "source": [
        "selected_features = ['Sr.no', 'Authors', 'Quotes', 'Types']\n",
        "print(selected_features)"
      ],
      "metadata": {
        "colab": {
          "base_uri": "https://localhost:8080/"
        },
        "id": "kaoQK7fmax3D",
        "outputId": "c09f6a00-f0a2-4ccf-a251-37abc56cb6c9"
      },
      "execution_count": 7,
      "outputs": [
        {
          "output_type": "stream",
          "name": "stdout",
          "text": [
            "['Sr.no', 'Authors', 'Quotes', 'Types']\n"
          ]
        }
      ]
    },
    {
      "cell_type": "code",
      "source": [
        "for feature in selected_features :\n",
        "  df[feature] = df[feature].fillna('')"
      ],
      "metadata": {
        "id": "ym5MdC10bB8u"
      },
      "execution_count": 8,
      "outputs": []
    },
    {
      "cell_type": "code",
      "source": [
        "vectorizer = TfidfVectorizer()"
      ],
      "metadata": {
        "id": "WGThMsb-bOGj"
      },
      "execution_count": 9,
      "outputs": []
    },
    {
      "cell_type": "code",
      "source": [
        "feature_vectors = vectorizer.fit_transform(selected_features)"
      ],
      "metadata": {
        "id": "iLg09K9BbbH_"
      },
      "execution_count": 13,
      "outputs": []
    },
    {
      "cell_type": "code",
      "source": [
        "print(feature_vectors)"
      ],
      "metadata": {
        "colab": {
          "base_uri": "https://localhost:8080/"
        },
        "id": "GWH9lkrvcEQa",
        "outputId": "02fb64fe-9804-4d8b-dccd-53cb558dc695"
      },
      "execution_count": 14,
      "outputs": [
        {
          "output_type": "stream",
          "name": "stdout",
          "text": [
            "  (0, 1)\t0.7071067811865476\n",
            "  (0, 3)\t0.7071067811865476\n",
            "  (1, 0)\t1.0\n",
            "  (2, 2)\t1.0\n",
            "  (3, 4)\t1.0\n"
          ]
        }
      ]
    },
    {
      "cell_type": "code",
      "source": [
        "similarity = cosine_similarity(feature_vectors)"
      ],
      "metadata": {
        "id": "p0YPUctYcJne"
      },
      "execution_count": 15,
      "outputs": []
    },
    {
      "cell_type": "code",
      "source": [
        "print(similarity)"
      ],
      "metadata": {
        "colab": {
          "base_uri": "https://localhost:8080/"
        },
        "id": "OheJMfGHcPX1",
        "outputId": "84a87b18-06a7-4152-a8d1-ed865c1642dd"
      },
      "execution_count": 16,
      "outputs": [
        {
          "output_type": "stream",
          "name": "stdout",
          "text": [
            "[[1. 0. 0. 0.]\n",
            " [0. 1. 0. 0.]\n",
            " [0. 0. 1. 0.]\n",
            " [0. 0. 0. 1.]]\n"
          ]
        }
      ]
    },
    {
      "cell_type": "code",
      "source": [
        "print(similarity.shape)"
      ],
      "metadata": {
        "colab": {
          "base_uri": "https://localhost:8080/"
        },
        "id": "0qgRtolWcSHG",
        "outputId": "5b1c7ae5-1b26-4a50-9b2b-7126a954c8f8"
      },
      "execution_count": 17,
      "outputs": [
        {
          "output_type": "stream",
          "name": "stdout",
          "text": [
            "(4, 4)\n"
          ]
        }
      ]
    },
    {
      "cell_type": "code",
      "source": [
        "df = input('Enter type of quote you wish to see')"
      ],
      "metadata": {
        "colab": {
          "base_uri": "https://localhost:8080/"
        },
        "id": "vzs5SwP3cVZZ",
        "outputId": "fb91108b-e06f-40c7-a711-63e376528347"
      },
      "execution_count": 27,
      "outputs": [
        {
          "name": "stdout",
          "output_type": "stream",
          "text": [
            "Enter type of quote you wish to seeNLP\n"
          ]
        }
      ]
    },
    {
      "cell_type": "code",
      "source": [
        "list_of_all_types = ['Artificial Intelligence', 'Data Science', 'NLP', 'Deep Learning']\n",
        "print(list_of_all_types)"
      ],
      "metadata": {
        "colab": {
          "base_uri": "https://localhost:8080/"
        },
        "id": "zqqqzJRXcdkL",
        "outputId": "2e4a3f93-8607-4ff1-b92a-cc36bf609175"
      },
      "execution_count": 28,
      "outputs": [
        {
          "output_type": "stream",
          "name": "stdout",
          "text": [
            "['Artificial Intelligence', 'Data Science', 'NLP', 'Deep Learning']\n"
          ]
        }
      ]
    },
    {
      "cell_type": "code",
      "source": [
        "find_close_match = difflib.get_close_matches(df, list_of_all_types)\n",
        "print(find_close_match)"
      ],
      "metadata": {
        "colab": {
          "base_uri": "https://localhost:8080/"
        },
        "id": "4eeyS-O3cvlL",
        "outputId": "d6228eea-19b6-4312-838b-8cc318d9202c"
      },
      "execution_count": 30,
      "outputs": [
        {
          "output_type": "stream",
          "name": "stdout",
          "text": [
            "['NLP']\n"
          ]
        }
      ]
    },
    {
      "cell_type": "code",
      "source": [
        "close_match = find_close_match[0]\n",
        "print(close_match)"
      ],
      "metadata": {
        "colab": {
          "base_uri": "https://localhost:8080/"
        },
        "id": "_W53vwnIdwnM",
        "outputId": "9953e434-f073-4458-fa6f-a012ddda50c0"
      },
      "execution_count": 31,
      "outputs": [
        {
          "output_type": "stream",
          "name": "stdout",
          "text": [
            "NLP\n"
          ]
        }
      ]
    },
    {
      "cell_type": "code",
      "source": [
        "index_of_the_quote = df[df.Types == close_match][\"index\"].values[0]\n",
        "print(index_of_the_quote)"
      ],
      "metadata": {
        "id": "q9WMEtnPevCM"
      },
      "execution_count": null,
      "outputs": []
    },
    {
      "cell_type": "code",
      "source": [
        "#similarity score\n",
        "similarity_score = list(enumerate(similarity[index_of_the_quote]))\n",
        "print(similarity_score)"
      ],
      "metadata": {
        "id": "vQwuq0Rtf-kW"
      },
      "execution_count": null,
      "outputs": []
    },
    {
      "cell_type": "code",
      "source": [
        "len(similarity_score)"
      ],
      "metadata": {
        "id": "AGIVvUxUgPDS"
      },
      "execution_count": null,
      "outputs": []
    },
    {
      "cell_type": "code",
      "source": [
        "sorted_similar_types = sorted(similarity_score, key= lambda x:x[1], reverse=True)\n",
        "print(sorted_similar_types)"
      ],
      "metadata": {
        "id": "0DGifUaqgR_c"
      },
      "execution_count": null,
      "outputs": []
    },
    {
      "cell_type": "code",
      "source": [
        "i=1 \n",
        "for quotes in sorted_similar_types:\n",
        "  index = quotes[0]\n",
        "  Types_from_index = df[df.index==index]['Types'].values[0]\n",
        "  if(i<60):\n",
        "    print(i, '', Types_from_index)\n",
        "    i+=1"
      ],
      "metadata": {
        "id": "XYsWK0c_gsZa"
      },
      "execution_count": null,
      "outputs": []
    },
    {
      "cell_type": "code",
      "source": [
        "quote_name=input('Enter the type of quote you are seeking: ') \n",
        "\n",
        "list_of_all_profiles=df['profile'].tolist() \n",
        " \n",
        "find_close_match=difflib.get_close_matches(df,list_of_all_profiles) \n",
        " \n",
        "close_match=find_close_match[0] \n",
        "index_of_the_quote=df[df.types == close_match][\"index\"].values[0] \n",
        "\n",
        "similarity_score=list(enumerate(similarity[index_of_the_job])) \n",
        "\n",
        "sorted_similar_types= sorted(similarity_score,key= lambda x:x[1], reverse=True) \n",
        " \n",
        "print('Suggested quotes are as follows:\\n') \n",
        "i=1 \n",
        "for quotes in sorted_similar_types: \n",
        "  index=quotes[0] \n",
        "  types_from_index= df[df.index==index]['profile'].values[0] \n",
        "  if(i<60): \n",
        "    print(i,'',types_from_index) \n",
        "    i+=1 "
      ],
      "metadata": {
        "id": "bA-hhMhJhbWk"
      },
      "execution_count": null,
      "outputs": []
    }
  ]
}